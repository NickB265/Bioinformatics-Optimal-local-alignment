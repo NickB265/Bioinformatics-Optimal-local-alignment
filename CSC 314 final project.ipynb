{
 "cells": [
  {
   "cell_type": "markdown",
   "id": "df9a43a2",
   "metadata": {},
   "source": [
    "## To-do\n",
    "### words to compare DONE\n",
    "### num of boxes DONE\n",
    "### populate top boxes with 0's DONE\n",
    "### add nums | side | down | accros | 0 DONE\n",
    "### select what arrow / number to put in box DONE\n",
    "### track back (need to find the largest to start the track back) DONE?\n",
    "### print alignment (need to enter the right gaps) DONE\n",
    "### match = 5 | mismatch = -1 | gap -4\n",
    "### Problem: if there is a cell that as 2 or more arrows that point to the cell I need to figure out the the math going from both cells [maybe if going though the cell action list count the # of times the TO cell shows up mark where in the list it was found and make a copy of the list to do math in a seperate loop]"
   ]
  },
  {
   "cell_type": "code",
   "execution_count": 1,
   "id": "4f86e9be",
   "metadata": {},
   "outputs": [],
   "source": [
    "import numpy as np"
   ]
  },
  {
   "cell_type": "markdown",
   "id": "09f36267",
   "metadata": {},
   "source": [
    "### # of boxes = top word + 1 * side word + 1"
   ]
  },
  {
   "cell_type": "code",
   "execution_count": 118,
   "id": "a207c86f",
   "metadata": {},
   "outputs": [
    {
     "name": "stdin",
     "output_type": "stream",
     "text": [
      "Enter top word:  salty\n",
      "Enter side word: plate\n"
     ]
    },
    {
     "name": "stdout",
     "output_type": "stream",
     "text": [
      "[[0. 0. 0. 0. 0. 0.]\n",
      " [0. 0. 0. 0. 0. 0.]\n",
      " [0. 0. 0. 0. 0. 0.]\n",
      " [0. 0. 0. 0. 0. 0.]\n",
      " [0. 0. 0. 0. 0. 0.]\n",
      " [0. 0. 0. 0. 0. 0.]]\n",
      "(6, 6)\n"
     ]
    }
   ],
   "source": [
    "top_words = input(\"Enter top word: \")\n",
    "side_words = input(\"Enter side word:\")\n",
    "#control words so I don't have to input the words every time\n",
    "#top_words = 'salty'\n",
    "#side_words = 'plate'\n",
    "\n",
    "# create a 2D numpy array that is the legth of the 2 words\n",
    "arr = np.zeros(((len(side_words) + 1), (len(top_words) + 1)))\n",
    "\n",
    "    \n",
    "print(arr)\n",
    "print(arr.shape)"
   ]
  },
  {
   "cell_type": "code",
   "execution_count": 119,
   "id": "7dc805b9-f39a-464d-bda6-3bc80fd59a08",
   "metadata": {},
   "outputs": [
    {
     "name": "stdout",
     "output_type": "stream",
     "text": [
      "['s', 'a', 'l', 't', 'y']\n",
      "['p', 'l', 'a', 't', 'e']\n"
     ]
    }
   ],
   "source": [
    "#The following loops convert the words entered last cell into a list. This will make it easy to insert gaps for the local alignment\n",
    "top_word = []\n",
    "side_word = []\n",
    "for x in top_words:\n",
    "    top_word.append(x)\n",
    "print(top_word)\n",
    "\n",
    "for x in side_words:\n",
    "    side_word.append(x)\n",
    "print(side_word)"
   ]
  },
  {
   "cell_type": "code",
   "execution_count": 120,
   "id": "aba927c5-12f1-4329-9cb3-135e61ea1bb2",
   "metadata": {},
   "outputs": [],
   "source": [
    "#This dictinary is used to hold the values of [which cell the math was done from | what cell the result is going to | which arrow the result is]\n",
    "dic = {}"
   ]
  },
  {
   "cell_type": "code",
   "execution_count": 121,
   "id": "817d1cd9-258e-4087-97d8-0e14f741593d",
   "metadata": {},
   "outputs": [
    {
     "name": "stdout",
     "output_type": "stream",
     "text": [
      "[[0. 0. 0. 0. 0. 0.]\n",
      " [0. 0. 0. 0. 0. 0.]\n",
      " [0. 0. 0. 5. 1. 0.]\n",
      " [0. 0. 5. 1. 4. 0.]\n",
      " [0. 0. 1. 4. 6. 3.]\n",
      " [0. 0. 0. 0. 3. 5.]]\n"
     ]
    }
   ],
   "source": [
    "pas = 0\n",
    "row = 0\n",
    "col = 0\n",
    "#function that adds 5 to the cell if there is a match\n",
    "def match(row, col, pas):\n",
    "    \n",
    "    arr[row,col] = arr[row-1,col-1] + 5\n",
    "    largest = arr[row,col] \n",
    "    dic.update({pas: ((row-1,col-1),(row,col), 'diagnal')})\n",
    "    \n",
    "    \n",
    "\n",
    "#function that does the math for mismatchs and gap penaltys. adds the result to the dictionary where all the actions are stored\n",
    "def math(row,col, pas):\n",
    "    largest = 0\n",
    "    \n",
    "    #mismatch diagnal arrow\n",
    "    mcomp = arr[row-1,col-1]\n",
    "    mis = mcomp - 1\n",
    "\n",
    "    #gap down arrow\n",
    "    dcomp = arr[row-1,col]\n",
    "    down = dcomp - 4\n",
    "    \n",
    "    #gap across arrow\n",
    "    acomp = arr[row,col-1]\n",
    "    across = acomp - 4\n",
    "\n",
    "    #find which of the 3 is the largest\n",
    "    #Dic (passthough #: from cell, to cell, arrow)\n",
    "    \n",
    "    if mis > down and mis > across and mis > 0:\n",
    "        largest = mis\n",
    "        dic.update({pas: ((row-1,col-1),(row,col),'diagnal')})\n",
    "        \n",
    "    if down > mis and down > across and down > 0:\n",
    "        largest = down\n",
    "        dic.update({pas: ((row-1,col),(row,col), 'down')})\n",
    "        \n",
    "    if across > mis and across > down and across> 0:\n",
    "        largest = across\n",
    "        dic.update({pas: ((row,col-1),(row,col), 'across')})\n",
    "\n",
    "    #TO-DO need to fix this. the across overwrites the key of the down\n",
    "    if down == across and across == down and down > mis:\n",
    "        largest = down\n",
    "        dic.update({pas: ((row-1,col),(row,col), 'down')})\n",
    "        dic.update({pas: ((row,col-1),(row,col), 'across')})\n",
    "        \n",
    "       \n",
    "    #TO-DO may need to add an if to account for a mis is = to the score of a down or across\n",
    "\n",
    "    #check to see if the largest number is larger than 0 if it is less than zero, zero is applyed to the cell\n",
    "    if largest > 0:\n",
    "        arr[row,col] = arr[row,col] + largest\n",
    "    if largest <= 0:\n",
    "        arr[row,col] = arr[row,col] + 0\n",
    "        dic.update({pas: ((row,col), 'Zero')})\n",
    "    \n",
    "    \n",
    "    \n",
    "  \n",
    "\n",
    "\n",
    "#For loop to intteratate through each cell, x is itterating through each row\n",
    "for x in arr:\n",
    "    #The if skips the first row because we dont need to change anything in it \n",
    "    \n",
    "    if row != 0 and row <= len(side_word):\n",
    "        #y goes through each number in the row \n",
    "        #within this for loop we calculate the number for the cell from a row from left to right. after a row is competed it continues to the next row\n",
    "        for y in x:\n",
    "            #This if statement compres the letter of the top and side word and came only run if it is not in the first collum \n",
    "            #because we dont need to chage anything in the first collum\n",
    "            if col != 0 and col <= len(top_word):\n",
    "\n",
    "                #if the top and side letters match the match function is run\n",
    "                if side_word[row-1] == top_word[col-1]:\n",
    "                # send this to the match\n",
    "                    match(row,col,pas)\n",
    "                    pas += 1\n",
    "                #if the 2 letters do not match the math function runs to calculate the mis-matchs and gap penaltys\n",
    "                else:\n",
    "                    math(row,col,pas)\n",
    "                    pas += 1\n",
    "                #send to the math for Gap and Mis\n",
    "            \n",
    "            col += 1\n",
    "                \n",
    "    col = 0\n",
    "    row += 1\n",
    "   \n",
    "print(arr) "
   ]
  },
  {
   "cell_type": "code",
   "execution_count": 122,
   "id": "575867e8-0a76-4a48-95d1-174af73a8c56",
   "metadata": {},
   "outputs": [
    {
     "name": "stdout",
     "output_type": "stream",
     "text": [
      "((1, 1), 'Zero')\n",
      "((1, 2), 'Zero')\n",
      "((1, 3), 'Zero')\n",
      "((1, 4), 'Zero')\n",
      "((1, 5), 'Zero')\n",
      "((2, 1), 'Zero')\n",
      "((2, 2), 'Zero')\n",
      "((1, 2), (2, 3), 'diagnal')\n",
      "((2, 3), (2, 4), 'across')\n",
      "((2, 5), 'Zero')\n",
      "((3, 1), 'Zero')\n",
      "((2, 1), (3, 2), 'diagnal')\n",
      "((3, 2), (3, 3), 'across')\n",
      "((2, 3), (3, 4), 'diagnal')\n",
      "((3, 5), 'Zero')\n",
      "((4, 1), 'Zero')\n",
      "((3, 2), (4, 2), 'down')\n",
      "((3, 2), (4, 3), 'diagnal')\n",
      "((3, 3), (4, 4), 'diagnal')\n",
      "((3, 4), (4, 5), 'diagnal')\n",
      "((5, 1), 'Zero')\n",
      "((5, 2), 'Zero')\n",
      "((5, 3), 'Zero')\n",
      "((4, 3), (5, 4), 'diagnal')\n",
      "((4, 4), (5, 5), 'diagnal')\n"
     ]
    }
   ],
   "source": [
    "#dictionalry (From cell)(to cell)(action / arrow of the cell leading from ---> current cell)\n",
    "for x in dic: \n",
    "    print(dic[x])\n",
    "\n"
   ]
  },
  {
   "cell_type": "code",
   "execution_count": 123,
   "id": "31990136-d56b-4c2c-bdf1-f046596009de",
   "metadata": {},
   "outputs": [
    {
     "name": "stdout",
     "output_type": "stream",
     "text": [
      "The largest number in the table is: 6.0\n",
      "4 4\n"
     ]
    }
   ],
   "source": [
    "#meathod used to find the largest number in the table\n",
    "print('The largest number in the table is:' , arr.max())\n",
    "#meathod used to find the index in the 2D array (table) of the largest number \n",
    "i, j = np.unravel_index(arr.argmax(), arr.shape)\n",
    "print(i,j)\n",
    "\n"
   ]
  },
  {
   "cell_type": "code",
   "execution_count": 126,
   "id": "34035a0a-2b5c-41e8-bcee-d3dbad9b5043",
   "metadata": {
    "scrolled": true
   },
   "outputs": [],
   "source": [
    "#Group of lists used for printing the allignments and the optimal score\n",
    "gap_print = []\n",
    "num_print = []\n",
    "cell_print = []\n",
    "\n",
    "lar = (i,j)\n",
    "save = 0\n",
    "#The values and keys that are sored in the dic dictinary is turned into a list to make it easy to work with\n",
    "keys = list(dic.keys())\n",
    "val = list(dic.values())\n",
    "lar_found = False\n",
    "\n",
    "\n",
    "\n",
    "\n",
    "\n",
    "\n",
    "#For loop used for the trace back of the table. starts searching in revers order of the values list for faster results\n",
    "for y in reversed(val):\n",
    "    \n",
    "    temp = y\n",
    "    #first if statement to find the largest if the first ellement in the cell entry is the same address as the largest number saved in lar \n",
    "    #the cell that leads to the larges number is saved in the save varible and the information for the val entry is saved to the alignment lists\n",
    "    if temp[1] == lar and lar_found == False:\n",
    "        save = temp[0]\n",
    "        \n",
    "        #adds the arrow direction to a list to be printed later\n",
    "        gap_print.append(temp[2])\n",
    "        num = arr[temp[1]]\n",
    "        num_print.append(num)\n",
    "        cell_print.append(temp[1])\n",
    "        lar_found = True\n",
    "        \n",
    "    #second if statement will only trigger if the cell of the largest value has been found\n",
    "    if temp[1] == save and lar_found == True:\n",
    "\n",
    "        #these 2 if statements to trace back cells that do not have 0's in them. cells that contain 0 only have 2 values saved in the dictionary.\n",
    "        #if the cell is not 0 than \n",
    "        if len(temp) != 2:\n",
    "            save = temp[0]\n",
    "            gap_print.append(temp[2])\n",
    "            num = arr[temp[1]]\n",
    "            num_print.append(num)\n",
    "            cell_print.append(temp[1])\n",
    "                \n",
    "       \n",
    "    #The values that are being traced back are deleted from the possible values that can be compared to. \n",
    "    #This saves memory and computing power from so that they are not compared to again\n",
    "    if y in val: val.remove(y)\n",
    "        \n",
    "        \n",
    "   \n",
    "\n",
    "    "
   ]
  },
  {
   "cell_type": "code",
   "execution_count": 127,
   "id": "6e4a8312-9b61-4d8f-a71a-cc77ba88c8cb",
   "metadata": {},
   "outputs": [
    {
     "name": "stdout",
     "output_type": "stream",
     "text": [
      "[(4, 4), (3, 3), (3, 2)]\n",
      "[6.0, 1.0, 5.0]\n",
      "['diagnal', 'across', 'diagnal']\n"
     ]
    }
   ],
   "source": [
    "print(cell_print)\n",
    "print(num_print)\n",
    "print(gap_print)"
   ]
  },
  {
   "cell_type": "code",
   "execution_count": 128,
   "id": "48f653f8-efb4-443f-87a0-d86ec4873cc6",
   "metadata": {},
   "outputs": [
    {
     "name": "stdout",
     "output_type": "stream",
     "text": [
      "The optimal local alignment is:\n",
      "['a', 'l', 't']\n",
      "['a', '-', 't']\n",
      "The total alignment score is: 12.0\n"
     ]
    }
   ],
   "source": [
    "print('The optimal local alignment is:')\n",
    "align_score = 0.0\n",
    "p = 0\n",
    "top_alignment = []\n",
    "side_alignment = []\n",
    "\n",
    "#The for loop goes through the cordinates savedin cell_print\n",
    "for x in cell_print:\n",
    "    #the corinites are saved to there respective varible\n",
    "    col = x[1]\n",
    "    row = x[0]\n",
    "    \n",
    "    #the following if statements are used to insert gaps and letters into the top and side word alignments\n",
    "    #the alignment depends on the arrow values stored in the gap_print list\n",
    "    #each if statement also adds the value stored in the cell that is saved in the num_print list for the total optimal alignment score\n",
    "    #p is used as a constant itterating value for each of the 3 lists of information\n",
    "    \n",
    "    if gap_print[p] == 'diagnal':\n",
    "        top_alignment.append(top_word[col-1])\n",
    "        side_alignment.append(side_word[row-1])\n",
    "    elif gap_print[p] == 'across':\n",
    "        top_alignment.append(top_word[col-1])\n",
    "        side_alignment.append('-')\n",
    "    elif gap_print[p] == 'down':\n",
    "        top_alignment.append('-')\n",
    "        side_alignment.append(side_word[row-1])\n",
    "    align_score = align_score + num_print[p]\n",
    "    p += 1\n",
    "\n",
    "#The 2 final alignments are reversed and printed aling with the optimal score\n",
    "top_alignment.reverse()\n",
    "side_alignment.reverse()\n",
    "print(top_alignment)\n",
    "print(side_alignment)\n",
    "print('The total alignment score is:' , align_score)"
   ]
  },
  {
   "cell_type": "code",
   "execution_count": null,
   "id": "747a9dc8-6a04-4817-b31b-955945c454a8",
   "metadata": {},
   "outputs": [],
   "source": []
  },
  {
   "cell_type": "code",
   "execution_count": null,
   "id": "84b3c118-9f31-435f-a539-755d595893e7",
   "metadata": {},
   "outputs": [],
   "source": []
  }
 ],
 "metadata": {
  "kernelspec": {
   "display_name": "Python 3 (ipykernel)",
   "language": "python",
   "name": "python3"
  },
  "language_info": {
   "codemirror_mode": {
    "name": "ipython",
    "version": 3
   },
   "file_extension": ".py",
   "mimetype": "text/x-python",
   "name": "python",
   "nbconvert_exporter": "python",
   "pygments_lexer": "ipython3",
   "version": "3.11.7"
  }
 },
 "nbformat": 4,
 "nbformat_minor": 5
}
