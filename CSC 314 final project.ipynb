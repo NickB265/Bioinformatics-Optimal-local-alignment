{
 "cells": [
  {
   "cell_type": "markdown",
   "id": "df9a43a2",
   "metadata": {},
   "source": [
    "## To-do\n",
    "### words to compare DONE\n",
    "### num of boxes DONE\n",
    "### populate top boxes with 0's DONE\n",
    "### add nums | side | down | accros | 0 DONE\n",
    "### select what arrow / number to put in box DONE\n",
    "### track back (need to find the largest to start the track back)\n",
    "### print alignment (need to enter the right gaps)\n",
    "### match = 5 | mismatch = -1 | gap -4\n",
    "### Problem?: The dictionary that saves the actions that are applyed to a cell doesnt account for when 0 goes to a cell\n",
    "### Problem: if there is a cell that as 2 or more arrows that point to the cell I need to figure out the the math going from both cells [maybe if going though the cell action list count the # of times the TO cell shows up mark where in the list it was found and make a copy of the list to do math in a seperate loop]"
   ]
  },
  {
   "cell_type": "code",
   "execution_count": 2,
   "id": "4f86e9be",
   "metadata": {},
   "outputs": [],
   "source": [
    "import numpy as np"
   ]
  },
  {
   "cell_type": "markdown",
   "id": "09f36267",
   "metadata": {},
   "source": [
    "### # of boxes = top word + 1 * side word + 1"
   ]
  },
  {
   "cell_type": "code",
   "execution_count": 14,
   "id": "a207c86f",
   "metadata": {},
   "outputs": [
    {
     "name": "stdout",
     "output_type": "stream",
     "text": [
      "[[0. 0. 0. 0.]\n",
      " [0. 0. 0. 0.]\n",
      " [0. 0. 0. 0.]\n",
      " [0. 0. 0. 0.]\n",
      " [0. 0. 0. 0.]\n",
      " [0. 0. 0. 0.]]\n",
      "(6, 4)\n"
     ]
    }
   ],
   "source": [
    "#top_words = input(\"Enter top word: \")\n",
    "#side_words = input(\"Enter side word:\")\n",
    "top_words = 'toe'\n",
    "side_words = 'steps'\n",
    "# create the 2D numpy array\n",
    "arr = np.zeros(((len(side_words) + 1), (len(top_words) + 1)))\n",
    "\n",
    "    \n",
    "print(arr)\n",
    "print(arr.shape)"
   ]
  },
  {
   "cell_type": "code",
   "execution_count": 15,
   "id": "7dc805b9-f39a-464d-bda6-3bc80fd59a08",
   "metadata": {},
   "outputs": [
    {
     "name": "stdout",
     "output_type": "stream",
     "text": [
      "['t', 'o', 'e']\n",
      "['s', 't', 'e', 'p', 's']\n"
     ]
    }
   ],
   "source": [
    "\n",
    "top_word = []\n",
    "side_word = []\n",
    "for x in top_words:\n",
    "    top_word.append(x)\n",
    "print(top_word)\n",
    "\n",
    "for x in side_words:\n",
    "    side_word.append(x)\n",
    "print(side_word)"
   ]
  },
  {
   "cell_type": "code",
   "execution_count": 16,
   "id": "aba927c5-12f1-4329-9cb3-135e61ea1bb2",
   "metadata": {},
   "outputs": [],
   "source": [
    "dic = {}"
   ]
  },
  {
   "cell_type": "code",
   "execution_count": 17,
   "id": "817d1cd9-258e-4087-97d8-0e14f741593d",
   "metadata": {},
   "outputs": [
    {
     "name": "stdout",
     "output_type": "stream",
     "text": [
      "{0: ((1, 1), 'Zero'), 1: ((1, 2), 'Zero'), 2: ((1, 3), 'Zero'), 3: ((1, 0), (2, 1), 'diagnal')}\n",
      "{0: ((1, 1), 'Zero'), 1: ((1, 2), 'Zero'), 2: ((1, 3), 'Zero'), 3: ((1, 0), (2, 1), 'diagnal'), 4: ((2, 1), (2, 2), 'across')}\n",
      "{0: ((1, 1), 'Zero'), 1: ((1, 2), 'Zero'), 2: ((1, 3), 'Zero'), 3: ((1, 0), (2, 1), 'diagnal'), 4: ((2, 1), (2, 2), 'across'), 5: ((2, 3), 'Zero'), 6: ((2, 1), (3, 1), 'down')}\n",
      "{0: ((1, 1), 'Zero'), 1: ((1, 2), 'Zero'), 2: ((1, 3), 'Zero'), 3: ((1, 0), (2, 1), 'diagnal'), 4: ((2, 1), (2, 2), 'across'), 5: ((2, 3), 'Zero'), 6: ((2, 1), (3, 1), 'down'), 7: ((2, 1), (3, 2), 'diagnal')}\n",
      "{0: ((1, 1), 'Zero'), 1: ((1, 2), 'Zero'), 2: ((1, 3), 'Zero'), 3: ((1, 0), (2, 1), 'diagnal'), 4: ((2, 1), (2, 2), 'across'), 5: ((2, 3), 'Zero'), 6: ((2, 1), (3, 1), 'down'), 7: ((2, 1), (3, 2), 'diagnal'), 8: ((2, 2), (3, 3), 'diagnal')}\n",
      "{0: ((1, 1), 'Zero'), 1: ((1, 2), 'Zero'), 2: ((1, 3), 'Zero'), 3: ((1, 0), (2, 1), 'diagnal'), 4: ((2, 1), (2, 2), 'across'), 5: ((2, 3), 'Zero'), 6: ((2, 1), (3, 1), 'down'), 7: ((2, 1), (3, 2), 'diagnal'), 8: ((2, 2), (3, 3), 'diagnal'), 9: ((4, 1), 'Zero'), 10: ((4, 2), 'Zero'), 11: ((3, 2), (4, 3), 'diagnal')}\n",
      "[[0. 0. 0. 0.]\n",
      " [0. 0. 0. 0.]\n",
      " [0. 5. 1. 0.]\n",
      " [0. 1. 4. 6.]\n",
      " [0. 0. 0. 3.]\n",
      " [0. 0. 0. 0.]]\n"
     ]
    }
   ],
   "source": [
    "\n",
    "#function that adds 5 to the cell if there is a match\n",
    "def match(row, col, pas):\n",
    "    arr[row,col] = arr[row-1,col-1] + 5\n",
    "    largest = arr[row,col] \n",
    "    dic.update({pas: ((row-1,col-1),(row,col), 'diagnal')})\n",
    "    print(dic)\n",
    "\n",
    "#function that does the math for mismatchs and gap penaltys. adds the result to a dictionary where all the actions are stored\n",
    "def math(row,col, pas):\n",
    "    largest = 0\n",
    "    \n",
    "    #mismatch diagnal arrow\n",
    "    mcomp = arr[row-1,col-1]\n",
    "    mis = mcomp - 1\n",
    "\n",
    "    #gap down arrow\n",
    "    dcomp = arr[row-1,col]\n",
    "    down = dcomp - 4\n",
    "    \n",
    "    #gap across arrow\n",
    "    acomp = arr[row,col-1]\n",
    "    across = acomp - 4\n",
    "\n",
    "    #find which of the 3 is the largest\n",
    "    #Dic (passthough #: from cell, to cell, arrow\n",
    "    if mis > down and mis > across and mis > 0:\n",
    "        largest = mis\n",
    "        dic.update({pas: ((row-1,col-1),(row,col),'diagnal')})\n",
    "        print(dic)\n",
    "    if down > mis and down >= across and down > 0:\n",
    "        largest = down\n",
    "        dic.update({pas: ((row-1,col),(row,col), 'down')})\n",
    "        print(dic)\n",
    "    if across > mis and across >= down and across> 0:\n",
    "        largest = across\n",
    "        dic.update({pas: ((row,col-1),(row,col), 'across')})\n",
    "        print(dic)\n",
    "\n",
    "    #check to see if the largest number is larger than 0 if it is less than zero it is applyed to the cell\n",
    "    if largest > 0:\n",
    "        arr[row,col] = arr[row,col] + largest\n",
    "    if largest <= 0:\n",
    "        arr[row,col] = arr[row,col] + 0\n",
    "        dic.update({pas: ((row,col), 'Zero')})\n",
    "    \n",
    "  \n",
    "pas = 0\n",
    "row = 0\n",
    "col = 0\n",
    "\n",
    "#x is itterating through each row\n",
    "for x in arr:\n",
    "    #The if skips the first row because we dont need to change anything in it \n",
    "    \n",
    "    if row != 0 and row <= len(side_word):\n",
    "        #y goes through each number in the row \n",
    "        for y in x:\n",
    "            if col != 0 and col <= len(top_word):\n",
    "                if side_word[row-1] == top_word[col-1]:\n",
    "                # send this to the match\n",
    "                    match(row,col,pas)\n",
    "                    pas += 1\n",
    "                else:\n",
    "                    math(row,col,pas)\n",
    "                    pas += 1\n",
    "                #send to the math for Gap and Mis\n",
    "            col += 1\n",
    "                \n",
    "    col = 0\n",
    "    row += 1\n",
    "   \n",
    "print(arr) "
   ]
  },
  {
   "cell_type": "code",
   "execution_count": 18,
   "id": "575867e8-0a76-4a48-95d1-174af73a8c56",
   "metadata": {},
   "outputs": [
    {
     "name": "stdout",
     "output_type": "stream",
     "text": [
      "((1, 1), 'Zero')\n",
      "((1, 2), 'Zero')\n",
      "((1, 3), 'Zero')\n",
      "((1, 0), (2, 1), 'diagnal')\n",
      "((2, 1), (2, 2), 'across')\n",
      "((2, 3), 'Zero')\n",
      "((2, 1), (3, 1), 'down')\n",
      "((2, 1), (3, 2), 'diagnal')\n",
      "((2, 2), (3, 3), 'diagnal')\n",
      "((4, 1), 'Zero')\n",
      "((4, 2), 'Zero')\n",
      "((3, 2), (4, 3), 'diagnal')\n",
      "((5, 1), 'Zero')\n",
      "((5, 2), 'Zero')\n",
      "((5, 3), 'Zero')\n"
     ]
    }
   ],
   "source": [
    "#dictionalry (From cell)(to cell)(action / arrow of the cell leading from ---> to)\n",
    "for x in dic: \n",
    "    print(dic[x])"
   ]
  },
  {
   "cell_type": "code",
   "execution_count": 19,
   "id": "31990136-d56b-4c2c-bdf1-f046596009de",
   "metadata": {},
   "outputs": [
    {
     "name": "stdout",
     "output_type": "stream",
     "text": [
      "The largest number in the table is: 6.0\n",
      "3 3\n"
     ]
    }
   ],
   "source": [
    "#meathod used to find the largest number in the table\n",
    "print('The largest number in the table is:' , arr.max())\n",
    "#meathod used to find the index in the table of the largest number \n",
    "i, j = np.unravel_index(arr.argmax(), arr.shape)\n",
    "print(i,j)"
   ]
  },
  {
   "cell_type": "code",
   "execution_count": 22,
   "id": "34035a0a-2b5c-41e8-bcee-d3dbad9b5043",
   "metadata": {},
   "outputs": [
    {
     "ename": "SyntaxError",
     "evalue": "invalid syntax (1188480316.py, line 19)",
     "output_type": "error",
     "traceback": [
      "\u001b[1;36m  Cell \u001b[1;32mIn[22], line 19\u001b[1;36m\u001b[0m\n\u001b[1;33m    fro =\u001b[0m\n\u001b[1;37m          ^\u001b[0m\n\u001b[1;31mSyntaxError\u001b[0m\u001b[1;31m:\u001b[0m invalid syntax\n"
     ]
    }
   ],
   "source": [
    "gap_print = []\n",
    "lar = (i,j)\n",
    "\n",
    "keys = list(dic.keys())\n",
    "val = list(dic.values())\n",
    "found = False\n",
    "x = 0\n",
    "\n",
    "\n",
    "#while loop to find the largest cell \n",
    "#need to change to when it is not done (when the search thing gets to a from cell that is zero then stop)\n",
    "while found == False:\n",
    "    temp = val[-x]\n",
    "    #first of statement to find the largest if the first ellement in the cell entry is the same address as the largest number than\n",
    "    if temp[1] == lar:\n",
    "        print('large found')\n",
    "        #adds the arrow direction to a list to be printed later\n",
    "        gap_print.append(temp[2])\n",
    "        fro = \n",
    "        #for loop to find anything that is attached to the \n",
    "    x +=1\n",
    "\n",
    "    "
   ]
  },
  {
   "cell_type": "code",
   "execution_count": null,
   "id": "6e4a8312-9b61-4d8f-a71a-cc77ba88c8cb",
   "metadata": {},
   "outputs": [],
   "source": []
  }
 ],
 "metadata": {
  "kernelspec": {
   "display_name": "Python 3 (ipykernel)",
   "language": "python",
   "name": "python3"
  },
  "language_info": {
   "codemirror_mode": {
    "name": "ipython",
    "version": 3
   },
   "file_extension": ".py",
   "mimetype": "text/x-python",
   "name": "python",
   "nbconvert_exporter": "python",
   "pygments_lexer": "ipython3",
   "version": "3.11.7"
  }
 },
 "nbformat": 4,
 "nbformat_minor": 5
}
